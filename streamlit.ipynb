{
 "cells": [
  {
   "cell_type": "code",
   "execution_count": null,
   "metadata": {
    "colab": {
     "base_uri": "https://localhost:8080/"
    },
    "executionInfo": {
     "elapsed": 33263,
     "status": "ok",
     "timestamp": 1610471224520,
     "user": {
      "displayName": "GIZEM TANRIVER",
      "photoUrl": "https://lh3.googleusercontent.com/a-/AOh14Gh94qWOUHi_8yKAVAJAruw9I7U78Mx8cLF8kXVw=s64",
      "userId": "04010270672463632223"
     },
     "user_tz": -180
    },
    "id": "sjKW9HWmfXaz",
    "outputId": "6c9a4fa3-d270-46f9-8bef-d71f89745aea"
   },
   "outputs": [],
   "source": [
    "# restart runtime after installations\n",
    "!pip install streamlit -q\n",
    "!pip install --upgrade streamlit opencv-python -q\n",
    "!pip install efficientnet_pytorch"
   ]
  },
  {
   "cell_type": "code",
   "execution_count": null,
   "metadata": {
    "colab": {
     "base_uri": "https://localhost:8080/"
    },
    "executionInfo": {
     "elapsed": 5108,
     "status": "ok",
     "timestamp": 1610471272162,
     "user": {
      "displayName": "GIZEM TANRIVER",
      "photoUrl": "https://lh3.googleusercontent.com/a-/AOh14Gh94qWOUHi_8yKAVAJAruw9I7U78Mx8cLF8kXVw=s64",
      "userId": "04010270672463632223"
     },
     "user_tz": -180
    },
    "id": "WRaPm-fWipi7",
    "outputId": "48423de5-2be6-4c2c-8b6f-34220a842e4b"
   },
   "outputs": [],
   "source": [
    "%cd streamlit_app"
   ]
  },
  {
   "cell_type": "code",
   "execution_count": null,
   "metadata": {
    "colab": {
     "base_uri": "https://localhost:8080/"
    },
    "executionInfo": {
     "elapsed": 21301,
     "status": "ok",
     "timestamp": 1610471288666,
     "user": {
      "displayName": "GIZEM TANRIVER",
      "photoUrl": "https://lh3.googleusercontent.com/a-/AOh14Gh94qWOUHi_8yKAVAJAruw9I7U78Mx8cLF8kXVw=s64",
      "userId": "04010270672463632223"
     },
     "user_tz": -180
    },
    "id": "Hswg59hysZpX",
    "outputId": "fcc98f40-7213-4bef-e4a4-72628f3e775d"
   },
   "outputs": [],
   "source": [
    "# to work on Colab\n",
    "!wget https://bin.equinox.io/c/4VmDzA7iaHb/ngrok-stable-linux-amd64.zip\n",
    "!unzip -qq ngrok-stable-linux-amd64.zip"
   ]
  },
  {
   "cell_type": "code",
   "execution_count": null,
   "metadata": {
    "colab": {
     "base_uri": "https://localhost:8080/"
    },
    "executionInfo": {
     "elapsed": 1611,
     "status": "ok",
     "timestamp": 1610474074869,
     "user": {
      "displayName": "GIZEM TANRIVER",
      "photoUrl": "https://lh3.googleusercontent.com/a-/AOh14Gh94qWOUHi_8yKAVAJAruw9I7U78Mx8cLF8kXVw=s64",
      "userId": "04010270672463632223"
     },
     "user_tz": -180
    },
    "id": "7HfGm5JssjF6",
    "outputId": "089975b5-a6e9-4342-d394-7a40fae0e12c"
   },
   "outputs": [],
   "source": [
    "# to work on Colab\n",
    "# use the link produced to connnect to the app\n",
    "get_ipython().system_raw('./ngrok http 8501 &')\n",
    "! curl -s http://localhost:4040/api/tunnels | python3 -c \\\n",
    "    \"import sys, json; print(json.load(sys.stdin)['tunnels'][0]['public_url'])\""
   ]
  },
  {
   "cell_type": "code",
   "execution_count": null,
   "metadata": {
    "id": "b5YH0g91PrLD"
   },
   "outputs": [],
   "source": [
    "!streamlit run app.py"
   ]
  }
 ],
 "metadata": {
  "accelerator": "GPU",
  "colab": {
   "authorship_tag": "ABX9TyNkYiZAlyZpSMXWzbmF5wqI",
   "collapsed_sections": [
    "Yp0iH5QNf-rN"
   ],
   "name": "streamlit.ipynb",
   "provenance": []
  },
  "kernelspec": {
   "display_name": "Python 3",
   "language": "python",
   "name": "python3"
  },
  "language_info": {
   "codemirror_mode": {
    "name": "ipython",
    "version": 3
   },
   "file_extension": ".py",
   "mimetype": "text/x-python",
   "name": "python",
   "nbconvert_exporter": "python",
   "pygments_lexer": "ipython3",
   "version": "3.8.3"
  }
 },
 "nbformat": 4,
 "nbformat_minor": 1
}
